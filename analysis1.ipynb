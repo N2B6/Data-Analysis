{
 "cells": [
  {
   "cell_type": "code",
   "execution_count": 2,
   "id": "71baeb0b-3b87-4f95-980f-5af71bd29ba3",
   "metadata": {},
   "outputs": [],
   "source": [
    "#  using local file\n",
    "from pyspark.sql import SparkSession\n",
    "\n",
    "# Create a Spark session\n",
    "spark = SparkSession.builder \\\n",
    "    .appName(\"BGL Dataset Analysis from Local File System\") \\\n",
    "    .getOrCreate()\n",
    "\n",
    "# Define the local file path\n",
    "local_file_path = \"BGL.log\"  # Replace with your actual local file path\n",
    "\n",
    "# Load the dataset from the local filesystem\n",
    "df = spark.read.text(local_file_path)\n"
   ]
  },
  {
   "cell_type": "code",
   "execution_count": 3,
   "id": "0377d70d-3c58-475a-b503-b9bea3fa62b8",
   "metadata": {},
   "outputs": [
    {
     "name": "stderr",
     "output_type": "stream",
     "text": [
      "                                                                                \r"
     ]
    },
    {
     "name": "stdout",
     "output_type": "stream",
     "text": [
      "+---------------------------------------------------------------------------------------------------------------------------------------------------+\n",
      "|value                                                                                                                                              |\n",
      "+---------------------------------------------------------------------------------------------------------------------------------------------------+\n",
      "|- 1117838570 2005.06.03 R02-M1-N0-C:J12-U11 2005-06-03-15.42.50.363779 R02-M1-N0-C:J12-U11 RAS KERNEL INFO instruction cache parity error corrected|\n",
      "|- 1117838570 2005.06.03 R02-M1-N0-C:J12-U11 2005-06-03-15.42.50.527847 R02-M1-N0-C:J12-U11 RAS KERNEL INFO instruction cache parity error corrected|\n",
      "|- 1117838570 2005.06.03 R02-M1-N0-C:J12-U11 2005-06-03-15.42.50.675872 R02-M1-N0-C:J12-U11 RAS KERNEL INFO instruction cache parity error corrected|\n",
      "|- 1117838570 2005.06.03 R02-M1-N0-C:J12-U11 2005-06-03-15.42.50.823719 R02-M1-N0-C:J12-U11 RAS KERNEL INFO instruction cache parity error corrected|\n",
      "|- 1117838570 2005.06.03 R02-M1-N0-C:J12-U11 2005-06-03-15.42.50.982731 R02-M1-N0-C:J12-U11 RAS KERNEL INFO instruction cache parity error corrected|\n",
      "+---------------------------------------------------------------------------------------------------------------------------------------------------+\n",
      "only showing top 5 rows\n",
      "\n"
     ]
    }
   ],
   "source": [
    "# Check if the log file is being read correctly\n",
    "df.show(5, truncate=False)"
   ]
  },
  {
   "cell_type": "code",
   "execution_count": 4,
   "id": "493eb87a-629b-4e3a-9c72-7eced2dee27e",
   "metadata": {},
   "outputs": [
    {
     "name": "stdout",
     "output_type": "stream",
     "text": [
      "+----------+----------+----------+-----------+-------------------+--------------------------+---------------+-------------------+------------+----------------+-----+----------------------------------------+\n",
      "|alert_flag|timestamp |date      |day_of_week|node               |date_time                 |time           |node_repeated      |message_type|system_component|level|message_content                         |\n",
      "+----------+----------+----------+-----------+-------------------+--------------------------+---------------+-------------------+------------+----------------+-----+----------------------------------------+\n",
      "|-         |1117838570|2005-06-03|Friday     |R02-M1-N0-C:J12-U11|2005-06-03-15.42.50.363779|15.42.50.363779|R02-M1-N0-C:J12-U11|RAS         |KERNEL          |INFO |instruction cache parity error corrected|\n",
      "|-         |1117838570|2005-06-03|Friday     |R02-M1-N0-C:J12-U11|2005-06-03-15.42.50.527847|15.42.50.527847|R02-M1-N0-C:J12-U11|RAS         |KERNEL          |INFO |instruction cache parity error corrected|\n",
      "|-         |1117838570|2005-06-03|Friday     |R02-M1-N0-C:J12-U11|2005-06-03-15.42.50.675872|15.42.50.675872|R02-M1-N0-C:J12-U11|RAS         |KERNEL          |INFO |instruction cache parity error corrected|\n",
      "|-         |1117838570|2005-06-03|Friday     |R02-M1-N0-C:J12-U11|2005-06-03-15.42.50.823719|15.42.50.823719|R02-M1-N0-C:J12-U11|RAS         |KERNEL          |INFO |instruction cache parity error corrected|\n",
      "|-         |1117838570|2005-06-03|Friday     |R02-M1-N0-C:J12-U11|2005-06-03-15.42.50.982731|15.42.50.982731|R02-M1-N0-C:J12-U11|RAS         |KERNEL          |INFO |instruction cache parity error corrected|\n",
      "|-         |1117838571|2005-06-03|Friday     |R02-M1-N0-C:J12-U11|2005-06-03-15.42.51.131467|15.42.51.131467|R02-M1-N0-C:J12-U11|RAS         |KERNEL          |INFO |instruction cache parity error corrected|\n",
      "|-         |1117838571|2005-06-03|Friday     |R02-M1-N0-C:J12-U11|2005-06-03-15.42.51.293532|15.42.51.293532|R02-M1-N0-C:J12-U11|RAS         |KERNEL          |INFO |instruction cache parity error corrected|\n",
      "|-         |1117838571|2005-06-03|Friday     |R02-M1-N0-C:J12-U11|2005-06-03-15.42.51.428563|15.42.51.428563|R02-M1-N0-C:J12-U11|RAS         |KERNEL          |INFO |instruction cache parity error corrected|\n",
      "|-         |1117838571|2005-06-03|Friday     |R02-M1-N0-C:J12-U11|2005-06-03-15.42.51.601412|15.42.51.601412|R02-M1-N0-C:J12-U11|RAS         |KERNEL          |INFO |instruction cache parity error corrected|\n",
      "|-         |1117838571|2005-06-03|Friday     |R02-M1-N0-C:J12-U11|2005-06-03-15.42.51.749199|15.42.51.749199|R02-M1-N0-C:J12-U11|RAS         |KERNEL          |INFO |instruction cache parity error corrected|\n",
      "+----------+----------+----------+-----------+-------------------+--------------------------+---------------+-------------------+------------+----------------+-----+----------------------------------------+\n",
      "only showing top 10 rows\n",
      "\n"
     ]
    }
   ],
   "source": [
    "from pyspark.sql.functions import split, col, to_date, date_format, regexp_extract\n",
    "\n",
    "# Assuming df is already loaded with the log data\n",
    "\n",
    "# Split the log lines into columns\n",
    "df = df.withColumn('alert_flag', split(df['value'], ' ')[0]) \\\n",
    "  .withColumn('timestamp', split(df['value'], ' ')[1]) \\\n",
    "  .withColumn('date', split(df['value'], ' ')[2]) \\\n",
    "  .withColumn('node', split(df['value'], ' ')[3]) \\\n",
    "  .withColumn('date_time', split(df['value'], ' ')[4]) \\\n",
    "  .withColumn('node_repeated', split(df['value'], ' ')[5]) \\\n",
    "  .withColumn('message_type', split(df['value'], ' ')[6]) \\\n",
    "  .withColumn('system_component', split(df['value'], ' ')[7]) \\\n",
    "  .withColumn('level', split(df['value'], ' ')[8]) \\\n",
    "  .withColumn('message_content', regexp_extract(df['value'], r'^(?:[^ ]+ ){9}(.*)$', 1)) \\\n",
    "\n",
    "# Convert date column to actual date type\n",
    "df = df.withColumn('date', to_date(col('date'), 'yyyy.MM.dd'))\n",
    "\n",
    "# Add a column for the day of the week\n",
    "df = df.withColumn('day_of_week', date_format(col('date'), 'EEEE'))\n",
    "\n",
    "# Extract the time part from the date_time column\n",
    "df = df.withColumn('time', split(df['date_time'], '-')[3])\n",
    "\n",
    "# Select and show the extracted columns\n",
    "df.select('alert_flag', 'timestamp', 'date', 'day_of_week', 'node', 'date_time', 'time', 'node_repeated', 'message_type', 'system_component', 'level', 'message_content').show(10, truncate=False)\n",
    "\n",
    "\n",
    "\n"
   ]
  },
  {
   "cell_type": "code",
   "execution_count": 64,
   "id": "b322892d-911d-4d89-99a5-33e30941354c",
   "metadata": {},
   "outputs": [
    {
     "name": "stderr",
     "output_type": "stream",
     "text": [
      "[Stage 38:=====>                                                   (1 + 9) / 10]\r"
     ]
    },
    {
     "name": "stdout",
     "output_type": "stream",
     "text": [
      "+-------------------+-----+\n",
      "|               node|count|\n",
      "+-------------------+-----+\n",
      "|R15-M1-N0-I:J18-U11|    3|\n",
      "|R37-M0-N0-I:J18-U11|    3|\n",
      "|R36-M1-N4-I:J18-U01|    3|\n",
      "|R21-M1-N8-I:J18-U01|    3|\n",
      "|R13-M0-N4-I:J18-U01|    3|\n",
      "|R05-M1-N0-I:J18-U11|    3|\n",
      "|R36-M0-NC-I:J18-U11|    3|\n",
      "|R32-M1-N4-I:J18-U11|    3|\n",
      "|R13-M1-N0-I:J18-U11|    3|\n",
      "|R24-M1-NC-I:J18-U01|    3|\n",
      "+-------------------+-----+\n",
      "only showing top 10 rows\n",
      "\n"
     ]
    },
    {
     "name": "stderr",
     "output_type": "stream",
     "text": [
      "                                                                                \r"
     ]
    }
   ],
   "source": [
    "# # Filter the DataFrame for \"APPUNAV\" events\n",
    "# appunav_df = df.filter(df['alert_flag'] == 'APPUNAV')\n",
    "\n",
    "# # Group by the node and count the occurrences\n",
    "# node_counts = appunav_df.groupBy('node').count()\n",
    "\n",
    "# # Sort the result to find the node with the largest number of \"APPUNAV\" events\n",
    "# sorted_node_counts = node_counts.orderBy('count', ascending=False)\n",
    "\n",
    "# # Show the top result\n",
    "# sorted_node_counts.show(10)\n"
   ]
  },
  {
   "cell_type": "code",
   "execution_count": 4,
   "id": "8cf999ba-6bec-4746-a366-80eef06b2a59",
   "metadata": {},
   "outputs": [],
   "source": [
    "# @@@@@@@@@@@@@@@@@@@@@@@@@@@@@@@@@@@@@@@@@@@@@@@@@@@@@@@@@@@@@@@@@@@@@@@@@@@@@@@@@@@@@@@@@@@@@@@@@@@@@@@@@@@@@@@@@@@@@@@@@@@@@@@@@@@@@@@@@@@"
   ]
  },
  {
   "cell_type": "code",
   "execution_count": 5,
   "id": "430e3c20-501b-41a1-8bed-3d0b2b6d6a11",
   "metadata": {},
   "outputs": [],
   "source": [
    "# Q2 How many fatal log entries that occurred on a Tuesday or Thursday resulted from a ”machine check interrupt”?"
   ]
  },
  {
   "cell_type": "code",
   "execution_count": 5,
   "id": "90639b0e-f57a-478e-bba3-038534894f5e",
   "metadata": {},
   "outputs": [
    {
     "name": "stderr",
     "output_type": "stream",
     "text": [
      "                                                                                \r"
     ]
    },
    {
     "name": "stdout",
     "output_type": "stream",
     "text": [
      "Total number of logs with message_content 'machine check interrupt': 295\n"
     ]
    },
    {
     "name": "stderr",
     "output_type": "stream",
     "text": [
      "[Stage 6:>                                                          (0 + 1) / 1]\r"
     ]
    },
    {
     "name": "stdout",
     "output_type": "stream",
     "text": [
      "+----------+----------+----------+-----------+-------------------+--------------------------+---------------+-------------------+------------+----------------+-----+--------------------------------------------------------------------+\n",
      "|alert_flag|timestamp |date      |day_of_week|node               |date_time                 |time           |node_repeated      |message_type|system_component|level|message_content                                                     |\n",
      "+----------+----------+----------+-----------+-------------------+--------------------------+---------------+-------------------+------------+----------------+-----+--------------------------------------------------------------------+\n",
      "|KERNMC    |1117961699|2005-06-05|Sunday     |R11-M0-NB-C:J07-U11|2005-06-05-01.54.59.497454|01.54.59.497454|R11-M0-NB-C:J07-U11|RAS         |KERNEL          |FATAL|machine check interrupt                                             |\n",
      "|KERNMC    |1118147576|2005-06-07|Tuesday    |R17-M0-N1-C:J03-U01|2005-06-07-05.32.56.626092|05.32.56.626092|R17-M0-N1-C:J03-U01|RAS         |KERNEL          |FATAL|machine check interrupt (bit=0x1d): L2 dcache unit data parity error|\n",
      "|KERNMC    |1118231324|2005-06-08|Wednesday  |R33-M1-ND-C:J15-U11|2005-06-08-04.48.44.250931|04.48.44.250931|R33-M1-ND-C:J15-U11|RAS         |KERNEL          |FATAL|machine check interrupt (bit=0x06): L3 major internal error         |\n",
      "|KERNMC    |1118352172|2005-06-09|Thursday   |R16-M0-N1-C:J12-U01|2005-06-09-14.22.52.398188|14.22.52.398188|R16-M0-N1-C:J12-U01|RAS         |KERNEL          |FATAL|machine check interrupt                                             |\n",
      "|KERNMC    |1118364254|2005-06-09|Thursday   |R03-M0-NB-C:J05-U01|2005-06-09-17.44.14.759692|17.44.14.759692|R03-M0-NB-C:J05-U01|RAS         |KERNEL          |FATAL|machine check interrupt                                             |\n",
      "|KERNMC    |1118394095|2005-06-10|Friday     |R10-M0-N1-C:J14-U11|2005-06-10-02.01.35.659631|02.01.35.659631|R10-M0-N1-C:J14-U11|RAS         |KERNEL          |FATAL|machine check interrupt                                             |\n",
      "|KERNMC    |1118535464|2005-06-11|Saturday   |R30-M0-N9-C:J16-U01|2005-06-11-17.17.44.605961|17.17.44.605961|R30-M0-N9-C:J16-U01|RAS         |KERNEL          |FATAL|machine check interrupt (bit=0x10): L2 DCU read error               |\n",
      "|KERNMC    |1118654612|2005-06-13|Monday     |R01-M0-N1-C:J13-U01|2005-06-13-02.23.32.728885|02.23.32.728885|R01-M0-N1-C:J13-U01|RAS         |KERNEL          |FATAL|machine check interrupt                                             |\n",
      "|KERNMC    |1118663247|2005-06-13|Monday     |R30-M0-N9-C:J16-U01|2005-06-13-04.47.27.880778|04.47.27.880778|R30-M0-N9-C:J16-U01|RAS         |KERNEL          |FATAL|machine check interrupt (bit=0x10): L2 DCU read error               |\n",
      "|KERNMC    |1118811265|2005-06-14|Tuesday    |R36-M0-N9-C:J12-U11|2005-06-14-21.54.25.815220|21.54.25.815220|R36-M0-N9-C:J12-U11|RAS         |KERNEL          |FATAL|machine check interrupt                                             |\n",
      "+----------+----------+----------+-----------+-------------------+--------------------------+---------------+-------------------+------------+----------------+-----+--------------------------------------------------------------------+\n",
      "only showing top 10 rows\n",
      "\n"
     ]
    },
    {
     "name": "stderr",
     "output_type": "stream",
     "text": [
      "                                                                                \r"
     ]
    }
   ],
   "source": [
    "# Filter logs with message_content containing \"machine check interrupt\"\n",
    "filtered_df = df.filter(col('message_content').contains('machine check interrupt'))\n",
    "\n",
    "# Count the number of filtered logs\n",
    "total_count = filtered_df.count()\n",
    "\n",
    "# Print the total number of logs\n",
    "print(f\"Total number of logs with message_content 'machine check interrupt': {total_count}\")\n",
    "\n",
    "# Show the top 10 logs\n",
    "filtered_df.select('alert_flag', 'timestamp', 'date', 'day_of_week', 'node', 'date_time', 'time', 'node_repeated', 'message_type', 'system_component', 'level', 'message_content') \\\n",
    "           .show(10, truncate=False)\n"
   ]
  },
  {
   "cell_type": "code",
   "execution_count": 7,
   "id": "0e1c274b-1b31-4da0-871c-d11032473424",
   "metadata": {},
   "outputs": [
    {
     "name": "stderr",
     "output_type": "stream",
     "text": [
      "                                                                                \r"
     ]
    },
    {
     "name": "stdout",
     "output_type": "stream",
     "text": [
      "Number of logs: 83\n"
     ]
    },
    {
     "name": "stderr",
     "output_type": "stream",
     "text": [
      "[Stage 11:===========================================>              (3 + 1) / 4]\r"
     ]
    },
    {
     "name": "stdout",
     "output_type": "stream",
     "text": [
      "+----------+----------+----------+-----------+-------------------+--------------------------+---------------+-------------------+------------+----------------+-----+--------------------------------------------------------------------+\n",
      "|alert_flag|timestamp |date      |day_of_week|node               |date_time                 |time           |node_repeated      |message_type|system_component|level|message_content                                                     |\n",
      "+----------+----------+----------+-----------+-------------------+--------------------------+---------------+-------------------+------------+----------------+-----+--------------------------------------------------------------------+\n",
      "|KERNMC    |1118147576|2005-06-07|Tuesday    |R17-M0-N1-C:J03-U01|2005-06-07-05.32.56.626092|05.32.56.626092|R17-M0-N1-C:J03-U01|RAS         |KERNEL          |FATAL|machine check interrupt (bit=0x1d): L2 dcache unit data parity error|\n",
      "|KERNMC    |1118352172|2005-06-09|Thursday   |R16-M0-N1-C:J12-U01|2005-06-09-14.22.52.398188|14.22.52.398188|R16-M0-N1-C:J12-U01|RAS         |KERNEL          |FATAL|machine check interrupt                                             |\n",
      "|KERNMC    |1118364254|2005-06-09|Thursday   |R03-M0-NB-C:J05-U01|2005-06-09-17.44.14.759692|17.44.14.759692|R03-M0-NB-C:J05-U01|RAS         |KERNEL          |FATAL|machine check interrupt                                             |\n",
      "|KERNMC    |1118811265|2005-06-14|Tuesday    |R36-M0-N9-C:J12-U11|2005-06-14-21.54.25.815220|21.54.25.815220|R36-M0-N9-C:J12-U11|RAS         |KERNEL          |FATAL|machine check interrupt                                             |\n",
      "|KERNMC    |1118989244|2005-06-16|Thursday   |R11-M1-NB-C:J02-U11|2005-06-16-23.20.44.661297|23.20.44.661297|R11-M1-NB-C:J02-U11|RAS         |KERNEL          |FATAL|machine check interrupt (bit=0x06): L3 major internal error         |\n",
      "|KERNMC    |1119339911|2005-06-21|Tuesday    |R36-M1-NE-C:J11-U11|2005-06-21-00.45.11.563508|00.45.11.563508|R36-M1-NE-C:J11-U11|RAS         |KERNEL          |FATAL|machine check interrupt (bit=0x06): L3 major internal error         |\n",
      "|KERNMC    |1119533449|2005-06-23|Thursday   |R05-M1-N2-C:J06-U11|2005-06-23-06.30.49.655479|06.30.49.655479|R05-M1-N2-C:J06-U11|RAS         |KERNEL          |FATAL|machine check interrupt                                             |\n",
      "|KERNMC    |1120162767|2005-06-30|Thursday   |R24-M1-NB-C:J02-U01|2005-06-30-13.19.27.905055|13.19.27.905055|R24-M1-NB-C:J02-U01|RAS         |KERNEL          |FATAL|machine check interrupt                                             |\n",
      "|KERNMC    |1120603961|2005-07-05|Tuesday    |R37-M1-ND-C:J08-U01|2005-07-05-15.52.41.833621|15.52.41.833621|R37-M1-ND-C:J08-U01|RAS         |KERNEL          |FATAL|machine check interrupt                                             |\n",
      "|KERNMC    |1120753404|2005-07-07|Thursday   |R27-M1-N5-C:J02-U01|2005-07-07-09.23.24.141716|09.23.24.141716|R27-M1-N5-C:J02-U01|RAS         |KERNEL          |FATAL|machine check interrupt (bit=0x06): L3 major internal error         |\n",
      "+----------+----------+----------+-----------+-------------------+--------------------------+---------------+-------------------+------------+----------------+-----+--------------------------------------------------------------------+\n",
      "only showing top 10 rows\n",
      "\n"
     ]
    },
    {
     "name": "stderr",
     "output_type": "stream",
     "text": [
      "                                                                                \r"
     ]
    }
   ],
   "source": [
    "#  Apply filter with day_of_week =\"Tuesday or Thurday\"\n",
    "\n",
    "# Filter logs with message_content containing \"machine check interrupt\" and day_of_week as Tuesday or Thursday\n",
    "filtered_df = df.filter(col('message_content').contains('machine check interrupt')) \\\n",
    "                 .filter((col('day_of_week') == 'Tuesday') | (col('day_of_week') == 'Thursday'))\n",
    "\n",
    "# Count the number of filtered logs\n",
    "num_logs = filtered_df.count()\n",
    "\n",
    "# Show the number of logs\n",
    "print(f\"Number of logs: {num_logs}\")\n",
    "\n",
    "# Show top 10 logs that match the criteria\n",
    "filtered_df.select('alert_flag', 'timestamp', 'date', 'day_of_week', 'node', 'date_time', 'time', 'node_repeated', 'message_type', 'system_component', 'level', 'message_content') \\\n",
    "           .show(10, truncate=False)\n",
    "\n"
   ]
  },
  {
   "cell_type": "code",
   "execution_count": 8,
   "id": "3ef309f0-8f54-4eab-8c06-20f4c7b8f202",
   "metadata": {},
   "outputs": [],
   "source": [
    "# @@@@@@@@@@@@@@@@@@@@@@@@@@@@@@@@@@@@@@@@@@@@@@@@@@@@@@@@@@@@@@@@@@@@@@@@@@@@@@@@@@@@@@@@@@@@@@@@@@@@@@@@@@@@@@@@@@@@@@@@@@@@@@@@@@@@@@@@@@@"
   ]
  },
  {
   "cell_type": "code",
   "execution_count": 9,
   "id": "119818ed-c5c5-40fe-958c-bac36ff5062d",
   "metadata": {},
   "outputs": [],
   "source": [
    "# Q6 For each day of the week, what is the average number of seconds during which ”torus receiver z+ input pipe errors” were detected and corrected?\n"
   ]
  },
  {
   "cell_type": "code",
   "execution_count": 10,
   "id": "2939b8fb-778e-4ab8-9f6e-33fa2db1be42",
   "metadata": {},
   "outputs": [],
   "source": [
    "from pyspark.sql.functions import col, unix_timestamp, lag, when, avg, date_format\n",
    "from pyspark.sql.window import Window\n",
    "\n",
    "# Filter logs with 'torus receiver z+ input pipe error' in message_content\n",
    "torus_receiver_logs = df.filter(col('message_content').contains('torus receiver z+ input pipe error'))"
   ]
  },
  {
   "cell_type": "code",
   "execution_count": 11,
   "id": "2d50d6cf-a87e-498b-9943-e67369de872b",
   "metadata": {},
   "outputs": [
    {
     "name": "stdout",
     "output_type": "stream",
     "text": [
      "+--------------------+----------+----------+----------+-------------------+--------------------+-------------------+------------+----------------+-----+--------------------+-----------+---------------+\n",
      "|               value|alert_flag| timestamp|      date|               node|           date_time|      node_repeated|message_type|system_component|level|     message_content|day_of_week|           time|\n",
      "+--------------------+----------+----------+----------+-------------------+--------------------+-------------------+------------+----------------+-----+--------------------+-----------+---------------+\n",
      "|- 1118070497 2005...|         -|1118070497|2005-06-06|R27-M0-N5-C:J11-U01|2005-06-06-08.08....|R27-M0-N5-C:J11-U01|         RAS|          KERNEL| INFO|1 torus receiver ...|     Monday|08.08.17.071414|\n",
      "|- 1118070497 2005...|         -|1118070497|2005-06-06|R27-M0-ND-C:J14-U11|2005-06-06-08.08....|R27-M0-ND-C:J14-U11|         RAS|          KERNEL| INFO|1 torus receiver ...|     Monday|08.08.17.315754|\n",
      "|- 1118070497 2005...|         -|1118070497|2005-06-06|R27-M0-N3-C:J15-U11|2005-06-06-08.08....|R27-M0-N3-C:J15-U11|         RAS|          KERNEL| INFO|1 torus receiver ...|     Monday|08.08.17.449342|\n",
      "|- 1118070497 2005...|         -|1118070497|2005-06-06|R27-M0-N3-C:J11-U01|2005-06-06-08.08....|R27-M0-N3-C:J11-U01|         RAS|          KERNEL| INFO|1 torus receiver ...|     Monday|08.08.17.516942|\n",
      "|- 1118070497 2005...|         -|1118070497|2005-06-06|R27-M0-N3-C:J10-U11|2005-06-06-08.08....|R27-M0-N3-C:J10-U11|         RAS|          KERNEL| INFO|1 torus receiver ...|     Monday|08.08.17.561871|\n",
      "|- 1118070497 2005...|         -|1118070497|2005-06-06|R27-M0-N2-C:J07-U11|2005-06-06-08.08....|R27-M0-N2-C:J07-U11|         RAS|          KERNEL| INFO|1 torus receiver ...|     Monday|08.08.17.701795|\n",
      "|- 1118070497 2005...|         -|1118070497|2005-06-06|R27-M0-N2-C:J14-U11|2005-06-06-08.08....|R27-M0-N2-C:J14-U11|         RAS|          KERNEL| INFO|1 torus receiver ...|     Monday|08.08.17.755739|\n",
      "|- 1118070497 2005...|         -|1118070497|2005-06-06|R27-M0-N2-C:J10-U11|2005-06-06-08.08....|R27-M0-N2-C:J10-U11|         RAS|          KERNEL| INFO|1 torus receiver ...|     Monday|08.08.17.778427|\n",
      "|- 1118070498 2005...|         -|1118070498|2005-06-06|R27-M0-N4-C:J15-U11|2005-06-06-08.08....|R27-M0-N4-C:J15-U11|         RAS|          KERNEL| INFO|1 torus receiver ...|     Monday|08.08.18.048869|\n",
      "|- 1118070498 2005...|         -|1118070498|2005-06-06|R27-M0-N4-C:J15-U01|2005-06-06-08.08....|R27-M0-N4-C:J15-U01|         RAS|          KERNEL| INFO|1 torus receiver ...|     Monday|08.08.18.182012|\n",
      "+--------------------+----------+----------+----------+-------------------+--------------------+-------------------+------------+----------------+-----+--------------------+-----------+---------------+\n",
      "only showing top 10 rows\n",
      "\n"
     ]
    },
    {
     "name": "stderr",
     "output_type": "stream",
     "text": [
      "[Stage 13:>                                                       (0 + 10) / 10]\r"
     ]
    },
    {
     "name": "stdout",
     "output_type": "stream",
     "text": [
      "Total count of logs with 'torus receiver z+ input pipe error': 1914\n"
     ]
    },
    {
     "name": "stderr",
     "output_type": "stream",
     "text": [
      "                                                                                \r"
     ]
    }
   ],
   "source": [
    "# Show the filtered logs with all columns\n",
    "torus_receiver_logs.show(10)\n",
    "\n",
    "# Show the count of filtered logs\n",
    "print(f\"Total count of logs with 'torus receiver z+ input pipe error': {torus_receiver_logs.count()}\")"
   ]
  },
  {
   "cell_type": "code",
   "execution_count": 12,
   "id": "1bd985bd-b99d-4b46-a8fc-df54803bd51c",
   "metadata": {},
   "outputs": [
    {
     "name": "stderr",
     "output_type": "stream",
     "text": [
      "[Stage 16:=====>                                                   (1 + 9) / 10]\r"
     ]
    },
    {
     "name": "stdout",
     "output_type": "stream",
     "text": [
      "Total count of logs with 'detected and corrected': 1914\n"
     ]
    },
    {
     "name": "stderr",
     "output_type": "stream",
     "text": [
      "                                                                                \r"
     ]
    }
   ],
   "source": [
    "# Filter logs with 'detected' and 'corrected' in message_content\n",
    "detected_corrected_logs = torus_receiver_logs.filter((col('message_content').contains('detected and corrected')))\n",
    "print(f\"Total count of logs with 'detected and corrected': {detected_corrected_logs.count()}\")"
   ]
  },
  {
   "cell_type": "code",
   "execution_count": 13,
   "id": "f1bc5d32-678e-4aee-9951-e17c5ed9c04a",
   "metadata": {},
   "outputs": [
    {
     "name": "stdout",
     "output_type": "stream",
     "text": [
      "First few rows after filtering for detected and corrected:\n"
     ]
    },
    {
     "name": "stderr",
     "output_type": "stream",
     "text": [
      "[Stage 19:>                                                       (0 + 10) / 10]\r"
     ]
    },
    {
     "name": "stdout",
     "output_type": "stream",
     "text": [
      "+--------------------+----------+----------+----------+-------------------+--------------------+-------------------+------------+----------------+-----+--------------------+-----------+---------------+\n",
      "|               value|alert_flag| timestamp|      date|               node|           date_time|      node_repeated|message_type|system_component|level|     message_content|day_of_week|           time|\n",
      "+--------------------+----------+----------+----------+-------------------+--------------------+-------------------+------------+----------------+-----+--------------------+-----------+---------------+\n",
      "|- 1118070497 2005...|         -|1118070497|2005-06-06|R27-M0-N5-C:J11-U01|2005-06-06-08.08....|R27-M0-N5-C:J11-U01|         RAS|          KERNEL| INFO|1 torus receiver ...|     Monday|08.08.17.071414|\n",
      "|- 1118070497 2005...|         -|1118070497|2005-06-06|R27-M0-ND-C:J14-U11|2005-06-06-08.08....|R27-M0-ND-C:J14-U11|         RAS|          KERNEL| INFO|1 torus receiver ...|     Monday|08.08.17.315754|\n",
      "|- 1118070497 2005...|         -|1118070497|2005-06-06|R27-M0-N3-C:J15-U11|2005-06-06-08.08....|R27-M0-N3-C:J15-U11|         RAS|          KERNEL| INFO|1 torus receiver ...|     Monday|08.08.17.449342|\n",
      "|- 1118070497 2005...|         -|1118070497|2005-06-06|R27-M0-N3-C:J11-U01|2005-06-06-08.08....|R27-M0-N3-C:J11-U01|         RAS|          KERNEL| INFO|1 torus receiver ...|     Monday|08.08.17.516942|\n",
      "|- 1118070497 2005...|         -|1118070497|2005-06-06|R27-M0-N3-C:J10-U11|2005-06-06-08.08....|R27-M0-N3-C:J10-U11|         RAS|          KERNEL| INFO|1 torus receiver ...|     Monday|08.08.17.561871|\n",
      "+--------------------+----------+----------+----------+-------------------+--------------------+-------------------+------------+----------------+-----+--------------------+-----------+---------------+\n",
      "only showing top 5 rows\n",
      "\n"
     ]
    },
    {
     "name": "stderr",
     "output_type": "stream",
     "text": [
      "                                                                                \r"
     ]
    }
   ],
   "source": [
    "# Order by timestamp\n",
    "detected_corrected_logs = detected_corrected_logs.orderBy('timestamp')\n",
    "\n",
    "# Print the  first few rows\n",
    "print(\"First few rows after filtering for detected and corrected:\")\n",
    "detected_corrected_logs.show(5)\n"
   ]
  },
  {
   "cell_type": "code",
   "execution_count": 14,
   "id": "4632cd9f-cf29-4944-98e7-2c850a9f71c9",
   "metadata": {},
   "outputs": [],
   "source": [
    "# Calculate duration between consecutive events\n",
    "window_spec = Window.partitionBy('date').orderBy('timestamp')\n",
    "detected_corrected_logs = detected_corrected_logs.withColumn('prev_timestamp', lag('timestamp', 1).over(window_spec))\n",
    "detected_corrected_logs = detected_corrected_logs.withColumn('duration_seconds', when(col('prev_timestamp').isNull(), 0).otherwise((col('timestamp').cast('long') - col('prev_timestamp').cast('long'))))\n"
   ]
  },
  {
   "cell_type": "code",
   "execution_count": 15,
   "id": "136b78f1-440e-46d9-9f13-bac7a6b7ecd5",
   "metadata": {},
   "outputs": [
    {
     "name": "stdout",
     "output_type": "stream",
     "text": [
      "First few rows after calculating duration:\n"
     ]
    },
    {
     "name": "stderr",
     "output_type": "stream",
     "text": [
      "[Stage 21:=======================================>                 (7 + 3) / 10]\r"
     ]
    },
    {
     "name": "stdout",
     "output_type": "stream",
     "text": [
      "+--------------------+----------+----------+----------+-------------------+--------------------+-------------------+------------+----------------+-----+--------------------+-----------+---------------+--------------+----------------+\n",
      "|               value|alert_flag| timestamp|      date|               node|           date_time|      node_repeated|message_type|system_component|level|     message_content|day_of_week|           time|prev_timestamp|duration_seconds|\n",
      "+--------------------+----------+----------+----------+-------------------+--------------------+-------------------+------------+----------------+-----+--------------------+-----------+---------------+--------------+----------------+\n",
      "|- 1118070497 2005...|         -|1118070497|2005-06-06|R27-M0-N5-C:J11-U01|2005-06-06-08.08....|R27-M0-N5-C:J11-U01|         RAS|          KERNEL| INFO|1 torus receiver ...|     Monday|08.08.17.071414|          NULL|               0|\n",
      "|- 1118070497 2005...|         -|1118070497|2005-06-06|R27-M0-ND-C:J14-U11|2005-06-06-08.08....|R27-M0-ND-C:J14-U11|         RAS|          KERNEL| INFO|1 torus receiver ...|     Monday|08.08.17.315754|    1118070497|               0|\n",
      "|- 1118070497 2005...|         -|1118070497|2005-06-06|R27-M0-N3-C:J15-U11|2005-06-06-08.08....|R27-M0-N3-C:J15-U11|         RAS|          KERNEL| INFO|1 torus receiver ...|     Monday|08.08.17.449342|    1118070497|               0|\n",
      "|- 1118070497 2005...|         -|1118070497|2005-06-06|R27-M0-N3-C:J11-U01|2005-06-06-08.08....|R27-M0-N3-C:J11-U01|         RAS|          KERNEL| INFO|1 torus receiver ...|     Monday|08.08.17.516942|    1118070497|               0|\n",
      "|- 1118070497 2005...|         -|1118070497|2005-06-06|R27-M0-N3-C:J10-U11|2005-06-06-08.08....|R27-M0-N3-C:J10-U11|         RAS|          KERNEL| INFO|1 torus receiver ...|     Monday|08.08.17.561871|    1118070497|               0|\n",
      "+--------------------+----------+----------+----------+-------------------+--------------------+-------------------+------------+----------------+-----+--------------------+-----------+---------------+--------------+----------------+\n",
      "only showing top 5 rows\n",
      "\n"
     ]
    },
    {
     "name": "stderr",
     "output_type": "stream",
     "text": [
      "                                                                                \r"
     ]
    }
   ],
   "source": [
    "# Print first few rows after calculating duration\n",
    "\n",
    "print(\"First few rows after calculating duration:\")\n",
    "detected_corrected_logs.show(5)\n"
   ]
  },
  {
   "cell_type": "code",
   "execution_count": 16,
   "id": "f4a95cf0-f2f4-4be4-a9c5-c0682f1f8df7",
   "metadata": {},
   "outputs": [
    {
     "name": "stdout",
     "output_type": "stream",
     "text": [
      "Average duration per day:\n"
     ]
    },
    {
     "name": "stderr",
     "output_type": "stream",
     "text": [
      "[Stage 28:======================>                                  (4 + 6) / 10]\r"
     ]
    },
    {
     "name": "stdout",
     "output_type": "stream",
     "text": [
      "+-----------+--------------------+\n",
      "|day_of_week|avg_duration_seconds|\n",
      "+-----------+--------------------+\n",
      "|  Wednesday|  1456.3508771929824|\n",
      "|    Tuesday|   4795.864583333333|\n",
      "|     Friday|   3935.622009569378|\n",
      "|   Thursday|   2763.583870967742|\n",
      "|   Saturday|   6913.522388059701|\n",
      "|     Monday|  3467.0576923076924|\n",
      "|     Sunday|  5998.2316384180795|\n",
      "+-----------+--------------------+\n",
      "\n"
     ]
    },
    {
     "name": "stderr",
     "output_type": "stream",
     "text": [
      "                                                                                \r"
     ]
    }
   ],
   "source": [
    "# Aggregate by day of week and calculate average duration in seconds\n",
    "avg_duration_per_day = detected_corrected_logs.groupBy('day_of_week').agg(avg('duration_seconds').alias('avg_duration_seconds'))\n",
    "\n",
    "# Print the average duration per day\n",
    "print(\"Average duration per day:\")\n",
    "avg_duration_per_day.show()"
   ]
  },
  {
   "cell_type": "code",
   "execution_count": 17,
   "id": "d5daf585-7afe-4300-be6f-9016abadf8f3",
   "metadata": {},
   "outputs": [
    {
     "name": "stderr",
     "output_type": "stream",
     "text": [
      "                                                                                \r"
     ]
    },
    {
     "data": {
      "image/png": "[encoded data removed]",
      "text/plain": [
       "<Figure size 1000x600 with 1 Axes>"
      ]
     },
     "metadata": {},
     "output_type": "display_data"
    }
   ],
   "source": [
    "# plot the graph\n",
    "import pandas as pd\n",
    "import matplotlib.pyplot as plt\n",
    "\n",
    "# Convert the result to a pandas dataframe for plotting\n",
    "avg_duration_per_day_pd = avg_duration_per_day.toPandas()\n",
    "\n",
    "# Sort the dataframe by day_of_week\n",
    "day_order = ['Monday', 'Tuesday', 'Wednesday', 'Thursday', 'Friday', 'Saturday', 'Sunday']\n",
    "avg_duration_per_day_pd['day_of_week'] = pd.Categorical(avg_duration_per_day_pd['day_of_week'], categories=day_order, ordered=True)\n",
    "avg_duration_per_day_pd = avg_duration_per_day_pd.sort_values('day_of_week')\n",
    "\n",
    "# Plotting\n",
    "plt.figure(figsize=(10, 6))\n",
    "plt.bar(avg_duration_per_day_pd['day_of_week'], avg_duration_per_day_pd['avg_duration_seconds'], color='skyblue')\n",
    "plt.xlabel('Day of the Week')\n",
    "plt.ylabel('Average Duration (seconds)')\n",
    "plt.title('Average Duration of Torus Receiver Z+ Input Pipe Errors by Day of the Week')\n",
    "plt.xticks(rotation=45)\n",
    "plt.tight_layout()\n",
    "plt.show()\n"
   ]
  },
  {
   "cell_type": "code",
   "execution_count": 18,
   "id": "ecb9a5c7-9520-4d11-b455-8a49f483a691",
   "metadata": {},
   "outputs": [],
   "source": [
    "# Stop the Spark session\n",
    "spark.stop()"
   ]
  },
  {
   "cell_type": "code",
   "execution_count": 19,
   "id": "1900e966-4486-4691-a510-da85479ed354",
   "metadata": {},
   "outputs": [],
   "source": [
    "# @@@@@@@@@@@@@@@@@@@@@@@@@@@@@@@@@@@@@@@@@@@@@@@@@@@@@@@@@@@@@@@@@@@@@@@@@@@@@@@@@@@@@@@@@@@@@@@@@@@@@@@@@@@@@@@@@@@@@@@@@@@@@@@@@@@@@@@@@@@"
   ]
  },
  {
   "cell_type": "code",
   "execution_count": 20,
   "id": "2e9479f0-5a1d-4604-beaf-a1c1119de90e",
   "metadata": {},
   "outputs": [],
   "source": [
    "#  using SPARK RDD"
   ]
  },
  {
   "cell_type": "code",
   "execution_count": 21,
   "id": "76cdf54c-1430-4ccd-af7e-6b292dd3d5ac",
   "metadata": {
    "scrolled": true
   },
   "outputs": [
    {
     "name": "stderr",
     "output_type": "stream",
     "text": [
      "[Stage 1:>                                                          (0 + 1) / 1]\r"
     ]
    },
    {
     "name": "stdout",
     "output_type": "stream",
     "text": [
      "+----------+----------+----------+-----------+-------------------+--------------------------+---------------+-------------------+------------+----------------+-----+----------------------------------------+\n",
      "|alert_flag|timestamp |date      |day_of_week|node               |date_time                 |time           |node_repeated      |message_type|system_component|level|message_content                         |\n",
      "+----------+----------+----------+-----------+-------------------+--------------------------+---------------+-------------------+------------+----------------+-----+----------------------------------------+\n",
      "|-         |1117838570|2005.06.03|Friday     |R02-M1-N0-C:J12-U11|2005-06-03-15.42.50.363779|15.42.50.363779|R02-M1-N0-C:J12-U11|RAS         |KERNEL          |INFO |instruction cache parity error corrected|\n",
      "|-         |1117838570|2005.06.03|Friday     |R02-M1-N0-C:J12-U11|2005-06-03-15.42.50.527847|15.42.50.527847|R02-M1-N0-C:J12-U11|RAS         |KERNEL          |INFO |instruction cache parity error corrected|\n",
      "|-         |1117838570|2005.06.03|Friday     |R02-M1-N0-C:J12-U11|2005-06-03-15.42.50.675872|15.42.50.675872|R02-M1-N0-C:J12-U11|RAS         |KERNEL          |INFO |instruction cache parity error corrected|\n",
      "|-         |1117838570|2005.06.03|Friday     |R02-M1-N0-C:J12-U11|2005-06-03-15.42.50.823719|15.42.50.823719|R02-M1-N0-C:J12-U11|RAS         |KERNEL          |INFO |instruction cache parity error corrected|\n",
      "|-         |1117838570|2005.06.03|Friday     |R02-M1-N0-C:J12-U11|2005-06-03-15.42.50.982731|15.42.50.982731|R02-M1-N0-C:J12-U11|RAS         |KERNEL          |INFO |instruction cache parity error corrected|\n",
      "|-         |1117838571|2005.06.03|Friday     |R02-M1-N0-C:J12-U11|2005-06-03-15.42.51.131467|15.42.51.131467|R02-M1-N0-C:J12-U11|RAS         |KERNEL          |INFO |instruction cache parity error corrected|\n",
      "|-         |1117838571|2005.06.03|Friday     |R02-M1-N0-C:J12-U11|2005-06-03-15.42.51.293532|15.42.51.293532|R02-M1-N0-C:J12-U11|RAS         |KERNEL          |INFO |instruction cache parity error corrected|\n",
      "|-         |1117838571|2005.06.03|Friday     |R02-M1-N0-C:J12-U11|2005-06-03-15.42.51.428563|15.42.51.428563|R02-M1-N0-C:J12-U11|RAS         |KERNEL          |INFO |instruction cache parity error corrected|\n",
      "|-         |1117838571|2005.06.03|Friday     |R02-M1-N0-C:J12-U11|2005-06-03-15.42.51.601412|15.42.51.601412|R02-M1-N0-C:J12-U11|RAS         |KERNEL          |INFO |instruction cache parity error corrected|\n",
      "|-         |1117838571|2005.06.03|Friday     |R02-M1-N0-C:J12-U11|2005-06-03-15.42.51.749199|15.42.51.749199|R02-M1-N0-C:J12-U11|RAS         |KERNEL          |INFO |instruction cache parity error corrected|\n",
      "+----------+----------+----------+-----------+-------------------+--------------------------+---------------+-------------------+------------+----------------+-----+----------------------------------------+\n",
      "only showing top 10 rows\n",
      "\n"
     ]
    },
    {
     "name": "stderr",
     "output_type": "stream",
     "text": [
      "24/07/28 22:32:51 WARN PythonRunner: Detected deadlock while completing task 0.0 in stage 1 (TID 1): Attempting to kill Python Worker\n",
      "                                                                                \r"
     ]
    }
   ],
   "source": [
    "from pyspark.sql import SparkSession\n",
    "from datetime import datetime\n",
    "\n",
    "# Create a Spark session\n",
    "spark = SparkSession.builder \\\n",
    "    .appName(\"BGL Log Analysis with RDD\") \\\n",
    "    .getOrCreate()\n",
    "\n",
    "# Access the SparkContext from the Spark session\n",
    "sc = spark.sparkContext\n",
    "\n",
    "# Define the local file path\n",
    "local_file_path = \"BGL.log\"  # Replace with your actual local file path\n",
    "\n",
    "# Load the dataset into an RDD\n",
    "rdd = sc.textFile(local_file_path)\n",
    "\n",
    "# Function to parse each log entry\n",
    "def parse_log_entry(log_entry):\n",
    "    parts = log_entry.split(' ')\n",
    "    if len(parts) >= 9:\n",
    "        alert_flag = parts[0]\n",
    "        timestamp = parts[1]\n",
    "        date = parts[2]\n",
    "        node = parts[3]\n",
    "        date_time = parts[4]\n",
    "        node_repeated = parts[5]\n",
    "        message_type = parts[6]\n",
    "        system_component = parts[7]\n",
    "        level = parts[8]\n",
    "        message_content = ' '.join(parts[9:])\n",
    "        # Convert date to actual date type and extract day of the week\n",
    "        date_obj = datetime.strptime(date, '%Y.%m.%d')\n",
    "        day_of_week = date_obj.strftime('%A')\n",
    "        # Extract the time part from the date_time column\n",
    "        time = date_time.split('-')[3]\n",
    "        return (alert_flag, timestamp, date, day_of_week, node, date_time, time, node_repeated, message_type, system_component, level, message_content)\n",
    "    else:\n",
    "        return None\n",
    "\n",
    "# Parse the log entries and filter out any invalid entries\n",
    "parsed_rdd = rdd.map(parse_log_entry).filter(lambda x: x is not None)\n",
    "\n",
    "\n",
    "# If you want to convert the RDD to a DataFrame and show it using DataFrame operations\n",
    "columns = ['alert_flag', 'timestamp', 'date', 'day_of_week', 'node', 'date_time', 'time', 'node_repeated', 'message_type', 'system_component', 'level', 'message_content']\n",
    "df = parsed_rdd.toDF(columns)\n",
    "df.show(10, truncate=False)\n",
    "\n",
    "\n"
   ]
  },
  {
   "cell_type": "code",
   "execution_count": 22,
   "id": "1c9e72e6-0816-4c49-9508-0091844ba272",
   "metadata": {},
   "outputs": [],
   "source": [
    "# Q12 What are the top 6 most frequently occurring hours in the log?"
   ]
  },
  {
   "cell_type": "code",
   "execution_count": 66,
   "id": "f1e7b3bd-ba40-4425-ae15-8a64df45f643",
   "metadata": {},
   "outputs": [
    {
     "name": "stderr",
     "output_type": "stream",
     "text": [
      "24/07/28 23:42:44 WARN SparkSession: Using an existing Spark session; only runtime SQL configurations will take effect.\n",
      "                                                                                \r"
     ]
    },
    {
     "name": "stdout",
     "output_type": "stream",
     "text": [
      "Top 6 most frequently occurring hours:\n",
      "Hour: 11, Count: 388648\n",
      "Hour: 10, Count: 379141\n",
      "Hour: 12, Count: 354389\n",
      "Hour: 08, Count: 315017\n",
      "Hour: 09, Count: 308801\n",
      "Hour: 17, Count: 299297\n"
     ]
    }
   ],
   "source": [
    "from pyspark.sql import SparkSession\n",
    "from datetime import datetime\n",
    "\n",
    "# Create a Spark session\n",
    "spark = SparkSession.builder \\\n",
    "    .appName(\"BGL Log Analysis with RDD\") \\\n",
    "    .getOrCreate()\n",
    "\n",
    "# Access the SparkContext from the Spark session\n",
    "sc = spark.sparkContext\n",
    "\n",
    "# Define the local file path\n",
    "local_file_path = \"BGL.log\"  # Replace with your actual local file path\n",
    "\n",
    "# Load the dataset into an RDD\n",
    "rdd = sc.textFile(local_file_path)\n",
    "\n",
    "# Function to parse each log entry\n",
    "def parse_log_entry_2(log_entry):\n",
    "    parts = log_entry.split(' ')\n",
    "    if len(parts) >= 9:\n",
    "        date_time = parts[4]\n",
    "        time = date_time.split('-')[3]  # Extract time part\n",
    "        hour = time.split('.')[0]  # Extract hour\n",
    "        return (hour, 1)\n",
    "    else:\n",
    "        return None\n",
    "\n",
    "# Parse the log entries and filter out any invalid entries\n",
    "parsed_rdd = rdd.map(parse_log_entry_2).filter(lambda x: x is not None)\n",
    "\n",
    "\n",
    "\n",
    "# Count the occurrences of each hour\n",
    "hour_counts = parsed_rdd.reduceByKey(lambda a, b: a + b)\n",
    "\n",
    "# Sort the hours by count in descending order and take the top 6\n",
    "top_6_hours = hour_counts.sortBy(lambda x: x[1], ascending=False).take(6)\n",
    "\n",
    "# Print the top 6 most frequently occurring hours\n",
    "print(\"Top 6 most frequently occurring hours:\")\n",
    "for hour, count in top_6_hours:\n",
    "    print(f\"Hour: {hour}, Count: {count}\")\n",
    "\n",
    "\n"
   ]
  },
  {
   "cell_type": "code",
   "execution_count": 24,
   "id": "2cfea73f-83f0-4710-aed8-142d5728b406",
   "metadata": {},
   "outputs": [
    {
     "data": {
      "image/png": "[encoded data removed]",
      "text/plain": [
       "<Figure size 1000x600 with 1 Axes>"
      ]
     },
     "metadata": {},
     "output_type": "display_data"
    }
   ],
   "source": [
    "#  plotting the graph\n",
    "import pandas as pd\n",
    "import matplotlib.pyplot as plt\n",
    "\n",
    "# Convert the top 6 hours data to a Pandas DataFrame\n",
    "top_6_hours_df = pd.DataFrame(top_6_hours, columns=['Hour', 'Count'])\n",
    "\n",
    "# Sort the DataFrame by hour for plotting\n",
    "top_6_hours_df = top_6_hours_df.sort_values(by='Hour')\n",
    "\n",
    "# Plotting\n",
    "plt.figure(figsize=(10, 6))\n",
    "plt.bar(top_6_hours_df['Hour'], top_6_hours_df['Count'], color='skyblue')\n",
    "plt.xlabel('Hour of the Day')\n",
    "plt.ylabel('Log Count')\n",
    "plt.title('Top 6 Most Frequently Occurring Hours in the Log')\n",
    "plt.xticks(rotation=45)\n",
    "plt.tight_layout()\n",
    "plt.show()\n"
   ]
  },
  {
   "cell_type": "code",
   "execution_count": 25,
   "id": "9095848d-0ae3-4029-ba5e-48632d631ede",
   "metadata": {},
   "outputs": [],
   "source": [
    "# @@@@@@@@@@@@@@@@@@@@@@@@@@@@@@@@@@@@@@@@@@@@@@@@@@@@@@@@@@@@@@@@@@@@@@@@@@@@@@@@@@@@@@@@@@@@@@@@@@@@@@@@@@@@@@@@@@@@@@@@@@@@@@@@@@@@@@@@@@@"
   ]
  },
  {
   "cell_type": "code",
   "execution_count": null,
   "id": "7d0de82f-479f-40d6-9eaa-0f6c0957fa02",
   "metadata": {},
   "outputs": [],
   "source": [
    "# Q16 Which node generated the largest number of APPUNAV events?"
   ]
  },
  {
   "cell_type": "code",
   "execution_count": 67,
   "id": "7137f348-daed-46ea-bac4-6a632384637f",
   "metadata": {},
   "outputs": [
    {
     "name": "stderr",
     "output_type": "stream",
     "text": [
      "[Stage 57:=================>                                       (3 + 7) / 10]\r"
     ]
    },
    {
     "name": "stdout",
     "output_type": "stream",
     "text": [
      "+-------------------+-----+\n",
      "|               node|count|\n",
      "+-------------------+-----+\n",
      "|R15-M1-N0-I:J18-U11|    3|\n",
      "|R37-M0-N0-I:J18-U11|    3|\n",
      "|R36-M1-N4-I:J18-U01|    3|\n",
      "|R21-M1-N8-I:J18-U01|    3|\n",
      "|R13-M0-N4-I:J18-U01|    3|\n",
      "|R05-M1-N0-I:J18-U11|    3|\n",
      "|R36-M0-NC-I:J18-U11|    3|\n",
      "|R32-M1-N4-I:J18-U11|    3|\n",
      "|R13-M1-N0-I:J18-U11|    3|\n",
      "|R24-M1-NC-I:J18-U01|    3|\n",
      "+-------------------+-----+\n",
      "only showing top 10 rows\n",
      "\n"
     ]
    },
    {
     "name": "stderr",
     "output_type": "stream",
     "text": [
      "                                                                                \r"
     ]
    }
   ],
   "source": [
    "# Filter the DataFrame for \"APPUNAV\" events\n",
    "appunav_df = df.filter(df['alert_flag'] == 'APPUNAV')\n",
    "\n",
    "# Group by the node and count the occurrences\n",
    "node_counts = appunav_df.groupBy('node').count()\n",
    "\n",
    "# Sort the result to find the nodes with the largest number of \"APPUNAV\" events\n",
    "sorted_node_counts = node_counts.orderBy('count', ascending=False)\n",
    "\n",
    "# Show the top 10 results\n",
    "sorted_node_counts.show(10)"
   ]
  },
  {
   "cell_type": "code",
   "execution_count": 68,
   "id": "392d2e4c-b0f9-4ad9-a174-50c8d0de3709",
   "metadata": {},
   "outputs": [],
   "source": [
    "# @@@@@@@@@@@@@@@@@@@@@@@@@@@@@@@@@@@@@@@@@@@@@@@@@@@@@@@@@@@@@@@@@@@@@@@@@@@@@@@@@@@@@@@@@@@@@@@@@@@@@@@@@@@@@@@@@@@@@@@@@@@@@@@@@@@@@@@@@@@"
   ]
  },
  {
   "cell_type": "code",
   "execution_count": 26,
   "id": "37946239-a2ab-4920-ae4e-6b1ef442000c",
   "metadata": {},
   "outputs": [],
   "source": [
    "# Q17 On which date and time was the latest KERNEL INFO message where an instruction cache parity error was corrected?\n"
   ]
  },
  {
   "cell_type": "code",
   "execution_count": 27,
   "id": "ce10eda3-4534-4ccd-ac58-e83b95d9597b",
   "metadata": {},
   "outputs": [
    {
     "name": "stderr",
     "output_type": "stream",
     "text": [
      "                                                                                \r"
     ]
    },
    {
     "name": "stdout",
     "output_type": "stream",
     "text": [
      "Latest KERNEL INFO message where an instruction cache parity error was corrected was on date: 2006.01.04 at time: 2006-01-04-04.46.38.802083\n"
     ]
    }
   ],
   "source": [
    "# Function to parse each log entry and filter relevant entries\n",
    "def parse_and_filter_log_entry(log_entry):\n",
    "    parts = log_entry.split(' ')\n",
    "    if len(parts) >= 9:\n",
    "        timestamp = parts[1]\n",
    "        date = parts[2]\n",
    "        node = parts[3]\n",
    "        date_time = parts[4]\n",
    "        system_component = parts[7]\n",
    "        level = parts[8]\n",
    "        message_content = ' '.join(parts[9:])\n",
    "        if system_component == 'KERNEL' and level == 'INFO' and 'instruction cache parity error corrected' in message_content:\n",
    "            return (timestamp, date, date_time, message_content)\n",
    "    return None\n",
    "\n",
    "# Parse and filter the log entries\n",
    "filtered_rdd = rdd.map(parse_and_filter_log_entry).filter(lambda x: x is not None)\n",
    "\n",
    "# Convert the RDD to a DataFrame to use the date and time functions\n",
    "from pyspark.sql import Row\n",
    "\n",
    "rows = filtered_rdd.map(lambda x: Row(timestamp=x[0], date=x[1], date_time=x[2], message_content=x[3]))\n",
    "df = spark.createDataFrame(rows)\n",
    "\n",
    "# Convert the timestamp to a datetime format and sort by the timestamp to get the latest entry\n",
    "df = df.withColumn(\"timestamp\", df[\"timestamp\"].cast(\"long\"))\n",
    "\n",
    "# Get the latest entry\n",
    "latest_entry = df.orderBy(df.timestamp.desc()).first()\n",
    "\n",
    "# Print the result\n",
    "if latest_entry:\n",
    "    latest_date = latest_entry.date\n",
    "    latest_time = latest_entry.date_time\n",
    "    print(f\"Latest KERNEL INFO message where an instruction cache parity error was corrected was on date: {latest_date} at time: {latest_time}\")\n",
    "else:\n",
    "    print(\"No relevant KERNEL INFO messages found.\")\n",
    "\n",
    "# Stop the Spark session\n",
    "spark.stop()"
   ]
  },
  {
   "cell_type": "code",
   "execution_count": 28,
   "id": "59c3da0d-b3e9-4e4c-838e-2d98da5de7f7",
   "metadata": {},
   "outputs": [],
   "source": [
    "# ADDITIONAL ANALYSIS"
   ]
  },
  {
   "cell_type": "code",
   "execution_count": 29,
   "id": "0f4251a3-46dd-47c1-b417-54cfcd5c1a72",
   "metadata": {},
   "outputs": [],
   "source": [
    "# using spark and hdfs\n",
    "\n",
    "from pyspark.sql import SparkSession\n",
    "\n",
    "# Define the HDFS Namenode IP and port\n",
    "namenode_ip = \"172.20.10.5\"  # Replace with your actual Namenode IP\n",
    "namenode_port = \"9000\"\n",
    "hdfs_url = f\"hdfs://{namenode_ip}:{namenode_port}\"\n",
    "\n",
    "# Create a Spark session with Hadoop configurations\n",
    "spark = SparkSession.builder \\\n",
    "    .appName(\"BGL Dataset Analysis from HDFS\") \\\n",
    "    .config(\"spark.hadoop.fs.defaultFS\", hdfs_url) \\\n",
    "    .config(\"spark.hadoop.fs.hdfs.impl\", \"org.apache.hadoop.hdfs.DistributedFileSystem\") \\\n",
    "    .config(\"spark.hadoop.fs.file.impl\", \"org.apache.hadoop.fs.LocalFileSystem\") \\\n",
    "    .getOrCreate()\n",
    "\n",
    "# Load the dataset from HDFS\n",
    "df = spark.read.text(f\"{hdfs_url}/hduser/nipunserver/logs/BGL.log\")"
   ]
  },
  {
   "cell_type": "code",
   "execution_count": 30,
   "id": "93f9f37f-a029-4f7e-9597-06605166eaf0",
   "metadata": {},
   "outputs": [
    {
     "name": "stdout",
     "output_type": "stream",
     "text": [
      "+---------------------------------------------------------------------------------------------------------------------------------------------------+\n",
      "|value                                                                                                                                              |\n",
      "+---------------------------------------------------------------------------------------------------------------------------------------------------+\n",
      "|- 1117838570 2005.06.03 R02-M1-N0-C:J12-U11 2005-06-03-15.42.50.363779 R02-M1-N0-C:J12-U11 RAS KERNEL INFO instruction cache parity error corrected|\n",
      "|- 1117838570 2005.06.03 R02-M1-N0-C:J12-U11 2005-06-03-15.42.50.527847 R02-M1-N0-C:J12-U11 RAS KERNEL INFO instruction cache parity error corrected|\n",
      "|- 1117838570 2005.06.03 R02-M1-N0-C:J12-U11 2005-06-03-15.42.50.675872 R02-M1-N0-C:J12-U11 RAS KERNEL INFO instruction cache parity error corrected|\n",
      "|- 1117838570 2005.06.03 R02-M1-N0-C:J12-U11 2005-06-03-15.42.50.823719 R02-M1-N0-C:J12-U11 RAS KERNEL INFO instruction cache parity error corrected|\n",
      "|- 1117838570 2005.06.03 R02-M1-N0-C:J12-U11 2005-06-03-15.42.50.982731 R02-M1-N0-C:J12-U11 RAS KERNEL INFO instruction cache parity error corrected|\n",
      "+---------------------------------------------------------------------------------------------------------------------------------------------------+\n",
      "only showing top 5 rows\n",
      "\n"
     ]
    }
   ],
   "source": [
    "# Check if the log file is being read correctly\n",
    "df.show(5, truncate=False)"
   ]
  },
  {
   "cell_type": "code",
   "execution_count": 31,
   "id": "ecd92723-8f1b-48dc-bb94-859bd383eecb",
   "metadata": {},
   "outputs": [
    {
     "name": "stdout",
     "output_type": "stream",
     "text": [
      "+----------+----------+----------+-----------+-------------------+--------------------------+---------------+-------------------+------------+----------------+-----+----------------------------------------+\n",
      "|alert_flag|timestamp |date      |day_of_week|node               |date_time                 |time           |node_repeated      |message_type|system_component|level|message_content                         |\n",
      "+----------+----------+----------+-----------+-------------------+--------------------------+---------------+-------------------+------------+----------------+-----+----------------------------------------+\n",
      "|-         |1117838570|2005-06-03|Friday     |R02-M1-N0-C:J12-U11|2005-06-03-15.42.50.363779|15.42.50.363779|R02-M1-N0-C:J12-U11|RAS         |KERNEL          |INFO |instruction cache parity error corrected|\n",
      "|-         |1117838570|2005-06-03|Friday     |R02-M1-N0-C:J12-U11|2005-06-03-15.42.50.527847|15.42.50.527847|R02-M1-N0-C:J12-U11|RAS         |KERNEL          |INFO |instruction cache parity error corrected|\n",
      "|-         |1117838570|2005-06-03|Friday     |R02-M1-N0-C:J12-U11|2005-06-03-15.42.50.675872|15.42.50.675872|R02-M1-N0-C:J12-U11|RAS         |KERNEL          |INFO |instruction cache parity error corrected|\n",
      "|-         |1117838570|2005-06-03|Friday     |R02-M1-N0-C:J12-U11|2005-06-03-15.42.50.823719|15.42.50.823719|R02-M1-N0-C:J12-U11|RAS         |KERNEL          |INFO |instruction cache parity error corrected|\n",
      "|-         |1117838570|2005-06-03|Friday     |R02-M1-N0-C:J12-U11|2005-06-03-15.42.50.982731|15.42.50.982731|R02-M1-N0-C:J12-U11|RAS         |KERNEL          |INFO |instruction cache parity error corrected|\n",
      "|-         |1117838571|2005-06-03|Friday     |R02-M1-N0-C:J12-U11|2005-06-03-15.42.51.131467|15.42.51.131467|R02-M1-N0-C:J12-U11|RAS         |KERNEL          |INFO |instruction cache parity error corrected|\n",
      "|-         |1117838571|2005-06-03|Friday     |R02-M1-N0-C:J12-U11|2005-06-03-15.42.51.293532|15.42.51.293532|R02-M1-N0-C:J12-U11|RAS         |KERNEL          |INFO |instruction cache parity error corrected|\n",
      "|-         |1117838571|2005-06-03|Friday     |R02-M1-N0-C:J12-U11|2005-06-03-15.42.51.428563|15.42.51.428563|R02-M1-N0-C:J12-U11|RAS         |KERNEL          |INFO |instruction cache parity error corrected|\n",
      "|-         |1117838571|2005-06-03|Friday     |R02-M1-N0-C:J12-U11|2005-06-03-15.42.51.601412|15.42.51.601412|R02-M1-N0-C:J12-U11|RAS         |KERNEL          |INFO |instruction cache parity error corrected|\n",
      "|-         |1117838571|2005-06-03|Friday     |R02-M1-N0-C:J12-U11|2005-06-03-15.42.51.749199|15.42.51.749199|R02-M1-N0-C:J12-U11|RAS         |KERNEL          |INFO |instruction cache parity error corrected|\n",
      "+----------+----------+----------+-----------+-------------------+--------------------------+---------------+-------------------+------------+----------------+-----+----------------------------------------+\n",
      "only showing top 10 rows\n",
      "\n"
     ]
    }
   ],
   "source": [
    "from pyspark.sql.functions import split, col, to_date, date_format, regexp_extract\n",
    "\n",
    "# Assuming df is already loaded with the log data\n",
    "\n",
    "# Split the log lines into columns\n",
    "df = df.withColumn('alert_flag', split(df['value'], ' ')[0]) \\\n",
    "  .withColumn('timestamp', split(df['value'], ' ')[1]) \\\n",
    "  .withColumn('date', split(df['value'], ' ')[2]) \\\n",
    "  .withColumn('node', split(df['value'], ' ')[3]) \\\n",
    "  .withColumn('date_time', split(df['value'], ' ')[4]) \\\n",
    "  .withColumn('node_repeated', split(df['value'], ' ')[5]) \\\n",
    "  .withColumn('message_type', split(df['value'], ' ')[6]) \\\n",
    "  .withColumn('system_component', split(df['value'], ' ')[7]) \\\n",
    "  .withColumn('level', split(df['value'], ' ')[8]) \\\n",
    "  .withColumn('message_content', regexp_extract(df['value'], r'^(?:[^ ]+ ){9}(.*)$', 1)) \\\n",
    "\n",
    "# Convert date column to actual date type\n",
    "df = df.withColumn('date', to_date(col('date'), 'yyyy.MM.dd'))\n",
    "\n",
    "# Add a column for the day of the week\n",
    "df = df.withColumn('day_of_week', date_format(col('date'), 'EEEE'))\n",
    "\n",
    "# Extract the time part from the date_time column\n",
    "df = df.withColumn('time', split(df['date_time'], '-')[3])\n",
    "\n",
    "# Select and show the extracted columns\n",
    "df.select('alert_flag', 'timestamp', 'date', 'day_of_week', 'node', 'date_time', 'time', 'node_repeated', 'message_type', 'system_component', 'level', 'message_content').show(10, truncate=False)\n",
    "\n",
    "\n",
    "\n"
   ]
  },
  {
   "cell_type": "code",
   "execution_count": 32,
   "id": "daae3441-07b1-4fb9-8557-3613eae15299",
   "metadata": {},
   "outputs": [],
   "source": [
    "# I. Error Analysis"
   ]
  },
  {
   "cell_type": "code",
   "execution_count": 33,
   "id": "b850a675-92de-4b82-b8b6-4e5a87cacae8",
   "metadata": {},
   "outputs": [
    {
     "name": "stderr",
     "output_type": "stream",
     "text": [
      "[Stage 2:=====>                                                    (1 + 9) / 10]\r"
     ]
    },
    {
     "name": "stdout",
     "output_type": "stream",
     "text": [
      "+------------------------------------------------------------------------------------------------------------------------------------------+------+\n",
      "|message_content                                                                                                                           |count |\n",
      "+------------------------------------------------------------------------------------------------------------------------------------------+------+\n",
      "|data TLB error interrupt                                                                                                                  |152734|\n",
      "|data storage interrupt                                                                                                                    |63491 |\n",
      "|instruction address: 0x00004ed8                                                                                                           |47104 |\n",
      "|ciod: Error loading /bgl/apps/scaletest/performance/MINIBEN/mb_243_0810/allreduce.rts: invalid or missing program image, Exec format error|20480 |\n",
      "|machine check: i-fetch......................0                                                                                             |14355 |\n",
      "|exception syndrome register: 0x00800000                                                                                                   |14341 |\n",
      "|data address: 0x00000002                                                                                                                  |14336 |\n",
      "|program interrupt: illegal instruction......0                                                                                             |10250 |\n",
      "|rts: kernel terminated for reason 1001                                                                                                    |9915  |\n",
      "|rts: kernel terminated for reason 1004                                                                                                    |7830  |\n",
      "+------------------------------------------------------------------------------------------------------------------------------------------+------+\n",
      "only showing top 10 rows\n",
      "\n"
     ]
    },
    {
     "name": "stderr",
     "output_type": "stream",
     "text": [
      "                                                                                \r"
     ]
    }
   ],
   "source": [
    "from pyspark.sql.functions import count\n",
    "\n",
    "# Count occurrences of each error message\n",
    "error_counts = df.filter(col('level') == 'FATAL').groupBy('message_content').agg(count('*').alias('count')).orderBy('count', ascending=False)\n",
    "\n",
    "# Show the top 10 errors\n",
    "error_counts.show(10,truncate=False)\n",
    "\n"
   ]
  },
  {
   "cell_type": "code",
   "execution_count": 34,
   "id": "9a30b0cb-f846-42fe-8464-52e6268e8b94",
   "metadata": {},
   "outputs": [],
   "source": [
    "# II. Node-Specific Analysis"
   ]
  },
  {
   "cell_type": "code",
   "execution_count": 35,
   "id": "059d757c-aca8-4ba7-a70b-62230750fc2c",
   "metadata": {},
   "outputs": [
    {
     "name": "stderr",
     "output_type": "stream",
     "text": [
      "[Stage 5:>                                                        (0 + 10) / 10]\r"
     ]
    },
    {
     "name": "stdout",
     "output_type": "stream",
     "text": [
      "+------------+-----+\n",
      "|message_type|count|\n",
      "+------------+-----+\n",
      "|         RAS|64651|\n",
      "+------------+-----+\n",
      "\n"
     ]
    },
    {
     "name": "stderr",
     "output_type": "stream",
     "text": [
      "                                                                                \r"
     ]
    }
   ],
   "source": [
    "# Filter data for a specific node\n",
    "node_specific_df = df.filter(col('node') == 'R02-M1-N0-C:J12-U11')\n",
    "\n",
    "# Count occurrences of each message type for the node\n",
    "node_message_counts = node_specific_df.groupBy('message_type').agg(count('*').alias('count')).orderBy('count', ascending=False)\n",
    "\n",
    "# Show the results\n",
    "node_message_counts.show()\n"
   ]
  },
  {
   "cell_type": "code",
   "execution_count": 36,
   "id": "7b8a9655-2d13-453a-a55d-6389fb71aff5",
   "metadata": {},
   "outputs": [],
   "source": [
    "#  III. TREND ANALYSIS"
   ]
  },
  {
   "cell_type": "code",
   "execution_count": 37,
   "id": "11cb7052-9634-47dd-92cc-e7c101917e25",
   "metadata": {},
   "outputs": [
    {
     "name": "stderr",
     "output_type": "stream",
     "text": [
      "24/07/28 22:33:09 WARN WindowExec: No Partition Defined for Window operation! Moving all data to a single partition, this can cause serious performance degradation.\n",
      "24/07/28 22:33:09 WARN WindowExec: No Partition Defined for Window operation! Moving all data to a single partition, this can cause serious performance degradation.\n",
      "24/07/28 22:33:09 WARN WindowExec: No Partition Defined for Window operation! Moving all data to a single partition, this can cause serious performance degradation.\n",
      "24/07/28 22:33:13 WARN WindowExec: No Partition Defined for Window operation! Moving all data to a single partition, this can cause serious performance degradation.\n",
      "24/07/28 22:33:13 WARN WindowExec: No Partition Defined for Window operation! Moving all data to a single partition, this can cause serious performance degradation.\n",
      "24/07/28 22:33:13 WARN WindowExec: No Partition Defined for Window operation! Moving all data to a single partition, this can cause serious performance degradation.\n",
      "24/07/28 22:33:13 WARN WindowExec: No Partition Defined for Window operation! Moving all data to a single partition, this can cause serious performance degradation.\n",
      "24/07/28 22:33:13 WARN WindowExec: No Partition Defined for Window operation! Moving all data to a single partition, this can cause serious performance degradation.\n",
      "24/07/28 22:33:13 WARN WindowExec: No Partition Defined for Window operation! Moving all data to a single partition, this can cause serious performance degradation.\n"
     ]
    },
    {
     "name": "stdout",
     "output_type": "stream",
     "text": [
      "+--------------------+------+------------------+\n",
      "|              window| count|        moving_avg|\n",
      "+--------------------+------+------------------+\n",
      "|{2005-06-03 00:00...| 14733|           14733.0|\n",
      "|{2005-06-04 00:00...|  2733|            8733.0|\n",
      "|{2005-06-05 00:00...|101380|39615.333333333336|\n",
      "|{2005-06-06 00:00...| 39462|           39577.0|\n",
      "|{2005-06-07 00:00...| 31924|           38046.4|\n",
      "|{2005-06-08 00:00...| 10676|33484.666666666664|\n",
      "|{2005-06-09 00:00...| 20283|31598.714285714286|\n",
      "|{2005-06-10 00:00...|  1462|         27831.625|\n",
      "|{2005-06-11 00:00...|152669|         45073.625|\n",
      "|{2005-06-12 00:00...|  3420|           45159.5|\n",
      "|{2005-06-13 00:00...| 37062|          37119.75|\n",
      "|{2005-06-14 00:00...|381561|         79882.125|\n",
      "|{2005-06-15 00:00...| 14972|         77763.125|\n",
      "|{2005-06-16 00:00...| 24590|         79502.375|\n",
      "|{2005-06-17 00:00...|  4073|         77476.125|\n",
      "|{2005-06-18 00:00...|  5301|           77956.0|\n",
      "|{2005-06-19 00:00...|  3359|          59292.25|\n",
      "|{2005-06-20 00:00...| 23863|         61847.625|\n",
      "|{2005-06-21 00:00...| 12003|          58715.25|\n",
      "|{2005-06-22 00:00...| 21126|         13660.875|\n",
      "+--------------------+------+------------------+\n",
      "only showing top 20 rows\n",
      "\n"
     ]
    }
   ],
   "source": [
    "from pyspark.sql.functions import window, avg\n",
    "\n",
    "# Aggregate data by day\n",
    "daily_events = df.groupBy(window(col('date'), '1 day')).agg(count('*').alias('count')).orderBy('window')\n",
    "\n",
    "# Calculate moving average to identify trends\n",
    "from pyspark.sql.window import Window\n",
    "moving_avg = daily_events.withColumn('moving_avg', avg('count').over(Window.orderBy('window').rowsBetween(-7, 0)))\n",
    "\n",
    "# Show the results\n",
    "moving_avg.show()\n"
   ]
  },
  {
   "cell_type": "code",
   "execution_count": 38,
   "id": "4ae60304-ada4-4b8c-9b95-c58557dc9c1d",
   "metadata": {},
   "outputs": [
    {
     "name": "stderr",
     "output_type": "stream",
     "text": [
      "24/07/28 22:33:13 WARN WindowExec: No Partition Defined for Window operation! Moving all data to a single partition, this can cause serious performance degradation.\n",
      "24/07/28 22:33:13 WARN WindowExec: No Partition Defined for Window operation! Moving all data to a single partition, this can cause serious performance degradation.\n",
      "24/07/28 22:33:13 WARN WindowExec: No Partition Defined for Window operation! Moving all data to a single partition, this can cause serious performance degradation.\n",
      "24/07/28 22:33:18 WARN WindowExec: No Partition Defined for Window operation! Moving all data to a single partition, this can cause serious performance degradation.\n",
      "24/07/28 22:33:18 WARN WindowExec: No Partition Defined for Window operation! Moving all data to a single partition, this can cause serious performance degradation.\n",
      "24/07/28 22:33:18 WARN WindowExec: No Partition Defined for Window operation! Moving all data to a single partition, this can cause serious performance degradation.\n",
      "24/07/28 22:33:18 WARN WindowExec: No Partition Defined for Window operation! Moving all data to a single partition, this can cause serious performance degradation.\n",
      "24/07/28 22:33:18 WARN WindowExec: No Partition Defined for Window operation! Moving all data to a single partition, this can cause serious performance degradation.\n",
      "24/07/28 22:33:18 WARN WindowExec: No Partition Defined for Window operation! Moving all data to a single partition, this can cause serious performance degradation.\n"
     ]
    }
   ],
   "source": [
    "import pandas as pd\n",
    "import matplotlib.pyplot as plt\n",
    "\n",
    "# Collect the data from the Spark DataFrame\n",
    "moving_avg_pd = moving_avg.toPandas()\n",
    "\n",
    "# Convert the window start time to a datetime object for plotting\n",
    "moving_avg_pd['window_start'] = pd.to_datetime(moving_avg_pd['window'].apply(lambda x: x['start']))\n",
    "\n",
    "# Sort the DataFrame by window start time\n",
    "moving_avg_pd = moving_avg_pd.sort_values(by='window_start')\n",
    "\n"
   ]
  },
  {
   "cell_type": "code",
   "execution_count": 39,
   "id": "9a71662f-9127-4406-b9c9-59a8289d01ea",
   "metadata": {},
   "outputs": [
    {
     "data": {
      "image/png": "[encoded data removed]",
      "text/plain": [
       "<Figure size 1400x700 with 1 Axes>"
      ]
     },
     "metadata": {},
     "output_type": "display_data"
    }
   ],
   "source": [
    "# Plot the data\n",
    "plt.figure(figsize=(14, 7))\n",
    "plt.plot(moving_avg_pd['window_start'], moving_avg_pd['count'], label='Daily Event Count')\n",
    "plt.plot(moving_avg_pd['window_start'], moving_avg_pd['moving_avg'], label='7-Day Moving Average', color='red')\n",
    "plt.xlabel('Date')\n",
    "plt.ylabel('Event Count')\n",
    "plt.title('Daily Event Count and 7-Day Moving Average')\n",
    "plt.legend()\n",
    "plt.grid(True)\n",
    "plt.show()\n"
   ]
  },
  {
   "cell_type": "code",
   "execution_count": 40,
   "id": "cba53d78-a79d-4e50-902c-ab86d4cfeb37",
   "metadata": {},
   "outputs": [],
   "source": [
    "# Stop the Spark session\n",
    "spark.stop()"
   ]
  }
 ],
 "metadata": {
  "kernelspec": {
   "display_name": "Python 3 (ipykernel)",
   "language": "python",
   "name": "python3"
  },
  "language_info": {
   "codemirror_mode": {
    "name": "ipython",
    "version": 3
   },
   "file_extension": ".py",
   "mimetype": "text/x-python",
   "name": "python",
   "nbconvert_exporter": "python",
   "pygments_lexer": "ipython3",
   "version": "3.10.12"
  }
 },
 "nbformat": 4,
 "nbformat_minor": 5
}
